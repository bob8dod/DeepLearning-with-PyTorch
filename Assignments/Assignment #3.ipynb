{
  "nbformat": 4,
  "nbformat_minor": 0,
  "metadata": {
    "kernelspec": {
      "language": "python",
      "display_name": "Python 3",
      "name": "python3"
    },
    "language_info": {
      "name": "python",
      "version": "3.7.10",
      "mimetype": "text/x-python",
      "codemirror_mode": {
        "name": "ipython",
        "version": 3
      },
      "pygments_lexer": "ipython3",
      "nbconvert_exporter": "python",
      "file_extension": ".py"
    },
    "colab": {
      "name": "assignment-3-titanic-with-mlp.ipynb",
      "provenance": [],
      "include_colab_link": true
    }
  },
  "cells": [
    {
      "cell_type": "markdown",
      "metadata": {
        "id": "view-in-github",
        "colab_type": "text"
      },
      "source": [
        "<a href=\"https://colab.research.google.com/github/bob8dod/DeepLearning-with-PyTorch/blob/main/assignment_3_titanic_with_mlp.ipynb\" target=\"_parent\"><img src=\"https://colab.research.google.com/assets/colab-badge.svg\" alt=\"Open In Colab\"/></a>"
      ]
    },
    {
      "cell_type": "code",
      "metadata": {
        "_uuid": "8f2839f25d086af736a60e9eeb907d3b93b6e0e5",
        "_cell_guid": "b1076dfc-b9ad-4769-8c92-a6c4dae69d19",
        "execution": {
          "iopub.status.busy": "2021-11-10T09:10:56.997458Z",
          "iopub.execute_input": "2021-11-10T09:10:56.997721Z",
          "iopub.status.idle": "2021-11-10T09:10:57.006422Z",
          "shell.execute_reply.started": "2021-11-10T09:10:56.997693Z",
          "shell.execute_reply": "2021-11-10T09:10:57.005718Z"
        },
        "trusted": true,
        "id": "YbpijGsnR6Dz"
      },
      "source": [
        "# This Python 3 environment comes with many helpful analytics libraries installed\n",
        "# It is defined by the kaggle/python Docker image: https://github.com/kaggle/docker-python\n",
        "# For example, here's several helpful packages to load\n",
        "\n",
        "import numpy as np # linear algebra\n",
        "import pandas as pd # data processing, CSV file I/O (e.g. pd.read_csv)\n",
        "\n",
        "# Input data files are available in the read-only \"../input/\" directory\n",
        "# For example, running this (by clicking run or pressing Shift+Enter) will list all files under the input directory\n",
        "\n",
        "import os\n",
        "for dirname, _, filenames in os.walk('/kaggle/input'):\n",
        "    for filename in filenames:\n",
        "        print(os.path.join(dirname, filename))\n",
        "\n",
        "# You can write up to 20GB to the current directory (/kaggle/working/) that gets preserved as output when you create a version using \"Save & Run All\" \n",
        "# You can also write temporary files to /kaggle/temp/, but they won't be saved outside of the current session"
      ],
      "execution_count": null,
      "outputs": []
    },
    {
      "cell_type": "code",
      "metadata": {
        "execution": {
          "iopub.status.busy": "2021-11-10T09:10:57.007876Z",
          "iopub.execute_input": "2021-11-10T09:10:57.008109Z",
          "iopub.status.idle": "2021-11-10T09:10:57.018120Z",
          "shell.execute_reply.started": "2021-11-10T09:10:57.008080Z",
          "shell.execute_reply": "2021-11-10T09:10:57.017499Z"
        },
        "trusted": true,
        "id": "y-R7rqyGR6D3"
      },
      "source": [
        "# 필요 라이브러리 임포트 (데이터 분석을 위한 라이브러리들)\n",
        "import pandas as pd\n",
        "import numpy as np\n",
        "import matplotlib.pyplot as plt\n",
        "import seaborn as sns"
      ],
      "execution_count": null,
      "outputs": []
    },
    {
      "cell_type": "code",
      "metadata": {
        "execution": {
          "iopub.status.busy": "2021-11-10T09:10:57.019446Z",
          "iopub.execute_input": "2021-11-10T09:10:57.019682Z",
          "iopub.status.idle": "2021-11-10T09:10:57.029135Z",
          "shell.execute_reply.started": "2021-11-10T09:10:57.019653Z",
          "shell.execute_reply": "2021-11-10T09:10:57.028011Z"
        },
        "trusted": true,
        "id": "oGoL_ipDR6D4"
      },
      "source": [
        "# 시드 고정 (이후에도 똑같은 결과가 나오게 하기 위함)\n",
        "seed = 3\n",
        "np.random.seed(seed)"
      ],
      "execution_count": null,
      "outputs": []
    },
    {
      "cell_type": "code",
      "metadata": {
        "execution": {
          "iopub.status.busy": "2021-11-10T09:10:57.030615Z",
          "iopub.execute_input": "2021-11-10T09:10:57.030830Z",
          "iopub.status.idle": "2021-11-10T09:10:57.051520Z",
          "shell.execute_reply.started": "2021-11-10T09:10:57.030803Z",
          "shell.execute_reply": "2021-11-10T09:10:57.050685Z"
        },
        "trusted": true,
        "id": "nWEMYIf9R6D5"
      },
      "source": [
        "# data 로드\n",
        "df_train = pd.read_csv('../input/titanic/train.csv')\n",
        "df_test = pd.read_csv('../input/titanic/test.csv')\n",
        "submission = pd.read_csv('../input/titanic/gender_submission.csv')"
      ],
      "execution_count": null,
      "outputs": []
    },
    {
      "cell_type": "markdown",
      "metadata": {
        "id": "ystmlxnwR6D5"
      },
      "source": [
        "가장 먼저 MLP를 통한 survived 예측 전, 예측에 사용될 특성과 버릴 특성 및 특성을 생성해야 될 부분이 있나 EDA를 통해 분석해 보았습니다."
      ]
    },
    {
      "cell_type": "code",
      "metadata": {
        "execution": {
          "iopub.status.busy": "2021-11-10T09:10:57.053566Z",
          "iopub.execute_input": "2021-11-10T09:10:57.054040Z",
          "iopub.status.idle": "2021-11-10T09:10:57.076053Z",
          "shell.execute_reply.started": "2021-11-10T09:10:57.054009Z",
          "shell.execute_reply": "2021-11-10T09:10:57.075470Z"
        },
        "trusted": true,
        "id": "7snwm3utR6D6"
      },
      "source": [
        "# 데이터 확인\n",
        "print('Train set:',df_train.shape)\n",
        "print('Test set:',df_test.shape, end='\\n\\n')\n",
        "print('------------[Train Data Infomation]-------------')\n",
        "print(df_train.info(),end='\\n\\n')\n",
        "print('------------[Test Data Infomation]-------------')\n",
        "print(df_test.info())"
      ],
      "execution_count": null,
      "outputs": []
    },
    {
      "cell_type": "markdown",
      "metadata": {
        "id": "VBxEwzbkR6D7"
      },
      "source": [
        "!해당 column들을 확인하고 trian과 test data 모두 Dtype이 동일하다는 것을 확인!  \n",
        "\n",
        "!Age,Fare,Cabin,Embarked 같은 경우 nan 값이 존재한다는 것을 확인 !   \n",
        "  \n",
        "**변수설명**  \n",
        "PassengerId : 각 승객의 고유 번호  \n",
        "Survived : 생존 여부(예측 해야될 특성) => (0 = 사망 / -1 = 생존)  \n",
        "Pclass : 객실 등급 (승객의 사회적, 경제적 지위 반영) => (1st = Upper / 2nd = Middle / 3rd = Lower)  \n",
        "Name : 이름  \n",
        "Sex : 성별  \n",
        "Age : 나이  \n",
        "SibSp : 동반한 Sibling(형제자매)와 Spouse(배우자)의 수  \n",
        "Parch : 동반한 Parent(부모) Child(자식)의 수  \n",
        "Ticket : 티켓의 고유넘버  \n",
        "Fare : 티켓의 요금  \n",
        "Cabin : 객실 번호  \n",
        "Embarked : 승선한 항 (C = Cherbourg, Q = Queenstown, S = Southampton)"
      ]
    },
    {
      "cell_type": "markdown",
      "metadata": {
        "id": "gZ9J_FevR6D8"
      },
      "source": [
        "column들을 확인 후 각 특성들이 결과(생존 여부)와 관련이 있는지 시각적(파이 차트, 바 차트)으로 확인해 보았습니다."
      ]
    },
    {
      "cell_type": "code",
      "metadata": {
        "execution": {
          "iopub.status.busy": "2021-11-10T09:10:57.077367Z",
          "iopub.execute_input": "2021-11-10T09:10:57.077635Z",
          "iopub.status.idle": "2021-11-10T09:10:57.086227Z",
          "shell.execute_reply.started": "2021-11-10T09:10:57.077604Z",
          "shell.execute_reply": "2021-11-10T09:10:57.085437Z"
        },
        "trusted": true,
        "id": "MT7cbnsRR6D9"
      },
      "source": [
        "def pie_chart(feature): #'Sex'를 기준으로 설명\n",
        "    feature_ratio = df_train[feature].value_counts(sort=False) # {male:#, female:#}\n",
        "    feature_size = feature_ratio.size # 2 _ (male,female)\n",
        "    feature_index = feature_ratio.index \n",
        "    # Index(['female', 'male'], dtype='object')\n",
        "    survived = df_train[df_train['Survived'] == 1][feature].value_counts() \n",
        "    #해당 feature에서 생존한 사람들에 대해서 새로운 list 생성 -> {male:#, female:#}\n",
        "    dead = df_train[df_train['Survived'] == 0][feature].value_counts() \n",
        "    #해당 feature에서 사망한 사람들에 대해서 새로운 list 생성 -> {male:#, female:#}\n",
        "\n",
        "    #Total ratio\n",
        "    plt.plot(aspect='auto')\n",
        "    plt.pie(feature_ratio, labels=feature_index, autopct='%1.1f%%')\n",
        "    plt.title(feature + \"'s total ratio\")\n",
        "    plt.show()\n",
        "  \n",
        "  #sub ratio\n",
        "    for i, index in enumerate(feature_index):\n",
        "        plt.subplot(1, feature_size + 1, i + 1, aspect='equal')\n",
        "        plt.pie([survived[index], dead[index]], labels=['O', 'X'], autopct='%1.1f%%')\n",
        "        plt.title(str(index) + \"'s O/X ratio\")\n",
        "    plt.show()"
      ],
      "execution_count": null,
      "outputs": []
    },
    {
      "cell_type": "code",
      "metadata": {
        "execution": {
          "iopub.status.busy": "2021-11-10T09:10:57.087583Z",
          "iopub.execute_input": "2021-11-10T09:10:57.087808Z",
          "iopub.status.idle": "2021-11-10T09:10:57.103191Z",
          "shell.execute_reply.started": "2021-11-10T09:10:57.087780Z",
          "shell.execute_reply": "2021-11-10T09:10:57.102346Z"
        },
        "trusted": true,
        "id": "bOd6eEGaR6D9"
      },
      "source": [
        "def bar_chart(feature):\n",
        "    total = df_train[feature].value_counts()\n",
        "    survived = df_train[df_train['Survived']==1][feature].value_counts()\n",
        "    dead = df_train[df_train['Survived']==0][feature].value_counts()\n",
        "    df = pd.DataFrame([total,survived,dead])\n",
        "    df.index = ['Total','Survived','Dead']\n",
        "    df.plot(kind='bar',stacked=True, figsize=(10,5),alpha=0.75, rot=0,\n",
        "            title=\"{}'s ratio\".format(feature))"
      ],
      "execution_count": null,
      "outputs": []
    },
    {
      "cell_type": "code",
      "metadata": {
        "execution": {
          "iopub.status.busy": "2021-11-10T09:10:57.104257Z",
          "iopub.execute_input": "2021-11-10T09:10:57.104859Z",
          "iopub.status.idle": "2021-11-10T09:10:57.908030Z",
          "shell.execute_reply.started": "2021-11-10T09:10:57.104827Z",
          "shell.execute_reply": "2021-11-10T09:10:57.907181Z"
        },
        "trusted": true,
        "id": "jMTpchHAR6D-"
      },
      "source": [
        "# pie_chart ('Pclass', 'Sex', 'Embarked')\n",
        "for col in ['Pclass', 'Sex', 'Embarked']:\n",
        "    pie_chart(col)"
      ],
      "execution_count": null,
      "outputs": []
    },
    {
      "cell_type": "markdown",
      "metadata": {
        "id": "2PZdHeiNR6D-"
      },
      "source": [
        "시각적으로 표현한 파이 차트를 통해  \n",
        "성별이 여자일 수록 생존 확률이 높고  \n",
        "객실 등급이 높아질 수록 생존 확률이 높다는 것을 확인할 수 있습니다.  \n",
        "추가적으로 C에서 승선한 승객이 S 나 Q에서 승선한 승객보다 생존 확률이 더 높다는 것을 확인할 수 있습니다.\n",
        "즉, Pclass 와 Sex, Embarked 특성은 생존 여부에 영향을 강하게 끼치는 것을 알 수 있습니다."
      ]
    },
    {
      "cell_type": "code",
      "metadata": {
        "execution": {
          "iopub.status.busy": "2021-11-10T09:10:57.909413Z",
          "iopub.execute_input": "2021-11-10T09:10:57.909709Z",
          "iopub.status.idle": "2021-11-10T09:10:58.469397Z",
          "shell.execute_reply.started": "2021-11-10T09:10:57.909670Z",
          "shell.execute_reply": "2021-11-10T09:10:58.468493Z"
        },
        "trusted": true,
        "id": "Yofak-jWR6D_"
      },
      "source": [
        "for col in ['SibSp', 'Parch']:\n",
        "    bar_chart(col)"
      ],
      "execution_count": null,
      "outputs": []
    },
    {
      "cell_type": "markdown",
      "metadata": {
        "id": "ckj8N0hOR6D_"
      },
      "source": [
        "해당 차트를 통해서 혼자 배에 탑승한 경우 생존확률이 다른 경우보다 낮단느 것을 확인할 수 있습니다.  \n",
        "혼자 타지 않은 탑승객인 경우 동반 탑승객의 수와 상관없이 크게 다르지 않은 생존 비율을 보입니다.  \n",
        "이를 통해 혼자 탔냐 여럿이 탔냐, 2가지로 구분하여 특성을 사용해도 되겠다고 판단이 가능합니다."
      ]
    },
    {
      "cell_type": "code",
      "metadata": {
        "execution": {
          "iopub.status.busy": "2021-11-10T09:10:58.470829Z",
          "iopub.execute_input": "2021-11-10T09:10:58.471124Z",
          "iopub.status.idle": "2021-11-10T09:10:58.500047Z",
          "shell.execute_reply.started": "2021-11-10T09:10:58.471081Z",
          "shell.execute_reply": "2021-11-10T09:10:58.499243Z"
        },
        "trusted": true,
        "id": "VDCNBidtR6D_"
      },
      "source": [
        "# Age 같은 경우 구간을 설정하여 판단\n",
        "for dataset in [df_train, df_test]:\n",
        "    dataset[dataset['Age'] <= 0]['Age'] = 0\n",
        "    dataset['Age'].fillna(dataset['Age'].mean(), inplace=True) \n",
        "    # inplace=True, 채우고 저장함\n",
        "    dataset['Age'] = dataset['Age'].astype(int)\n",
        "    dataset['AgeBand'] = pd.cut(df_train['Age'],8) # 8개의 구간으로 나눔\n",
        "df_train[['AgeBand', 'Survived']].groupby(['AgeBand'], as_index=False).mean()"
      ],
      "execution_count": null,
      "outputs": []
    },
    {
      "cell_type": "markdown",
      "metadata": {
        "id": "QdA5zDxzR6EA"
      },
      "source": [
        "Age 는 유아일 경우가 생존 확률이 높고  \n",
        "노인일 수록 생존확률이 낮다는 것을 확인 가능"
      ]
    },
    {
      "cell_type": "markdown",
      "metadata": {
        "id": "y1KXAZyVR6EA"
      },
      "source": [
        "이외의 특성들(PassengerId, Name, Ticket, Cabin)에서 의미를 찾아보겠습니다.  \n",
        "먼저 PassengerId 같은 경우 말그대로 Id 이기에 제외해도 되겠다고 생각했고,    \n",
        "Name 같은 경우 Age, SibSp, Parch 과 상관이 있다 판단하여 제거했습니다.   \n",
        "마지막으로 Ticket 이나 Cabin 같은 경우도 Pclass와 관련된 특성이라 판단하여 제거하였습니다.  "
      ]
    },
    {
      "cell_type": "markdown",
      "metadata": {
        "id": "qjnLAG4UR6EA"
      },
      "source": [
        "**데이터 전처리**  \n",
        "위의 분석을 바탕으로 버릴 특성들은 버리고  \n",
        "기존의 특성의 구간을 나누어주거나 string -> int 로, 필요한 특성이 있다면 추가하는 전처리 작업을 진행해 보았습니다,"
      ]
    },
    {
      "cell_type": "code",
      "metadata": {
        "execution": {
          "iopub.status.busy": "2021-11-10T09:10:58.503659Z",
          "iopub.execute_input": "2021-11-10T09:10:58.504237Z",
          "iopub.status.idle": "2021-11-10T09:10:58.511633Z",
          "shell.execute_reply.started": "2021-11-10T09:10:58.504198Z",
          "shell.execute_reply": "2021-11-10T09:10:58.510724Z"
        },
        "trusted": true,
        "id": "2vEXGEuoR6EA"
      },
      "source": [
        "df_train['Embarked'].value_counts(dropna=False) #dropna =Flase_nan값까지 세어줌...\n",
        "# Embarked 같은 경우 Nan 값 존재 확인"
      ],
      "execution_count": null,
      "outputs": []
    },
    {
      "cell_type": "code",
      "metadata": {
        "execution": {
          "iopub.status.busy": "2021-11-10T09:10:58.512910Z",
          "iopub.execute_input": "2021-11-10T09:10:58.513663Z",
          "iopub.status.idle": "2021-11-10T09:10:58.527877Z",
          "shell.execute_reply.started": "2021-11-10T09:10:58.513630Z",
          "shell.execute_reply": "2021-11-10T09:10:58.527082Z"
        },
        "trusted": true,
        "id": "UpCFwDR3R6EB"
      },
      "source": [
        "# 버릴 특성들 drop 해주고 Sex, Embarked 처리\n",
        "df_train = df_train.drop(['PassengerId','Name','Ticket',\n",
        "                          'Cabin','AgeBand','Fare'], axis=1)\n",
        "df_train['Sex'] = df_train['Sex'].astype(str)\n",
        "df_train['Embarked'] = df_train['Embarked'].fillna('S') #NaN을 최빈값인 S로 대체\n",
        "df_train['Embarked'] = df_train['Embarked'].astype(str)\n",
        "\n",
        "df_test = df_test.drop(['PassengerId','Name','Ticket',\n",
        "                        'Cabin','AgeBand','Fare'], axis=1)\n",
        "df_test['Sex'] = df_test['Sex'].astype(str)\n",
        "df_test['Embarked'] = df_test['Embarked'].fillna('S') #NaN을 최빈값인 S로 대체\n",
        "df_test['Embarked'] = df_test['Embarked'].astype(str)"
      ],
      "execution_count": null,
      "outputs": []
    },
    {
      "cell_type": "code",
      "metadata": {
        "execution": {
          "iopub.status.busy": "2021-11-10T09:10:58.529253Z",
          "iopub.execute_input": "2021-11-10T09:10:58.529788Z",
          "iopub.status.idle": "2021-11-10T09:10:58.541056Z",
          "shell.execute_reply.started": "2021-11-10T09:10:58.529753Z",
          "shell.execute_reply": "2021-11-10T09:10:58.540179Z"
        },
        "trusted": true,
        "id": "UBmJ353aR6EB"
      },
      "source": [
        "df_train.head(3)"
      ],
      "execution_count": null,
      "outputs": []
    },
    {
      "cell_type": "code",
      "metadata": {
        "execution": {
          "iopub.status.busy": "2021-11-10T09:10:58.542015Z",
          "iopub.execute_input": "2021-11-10T09:10:58.542704Z",
          "iopub.status.idle": "2021-11-10T09:10:58.574602Z",
          "shell.execute_reply.started": "2021-11-10T09:10:58.542669Z",
          "shell.execute_reply": "2021-11-10T09:10:58.573750Z"
        },
        "trusted": true,
        "id": "nSYdyhyJR6EB"
      },
      "source": [
        "# Age 와 SibSp, Parch 구간 설정\n",
        "for dataset in [df_train, df_test]:\n",
        "    # Age\n",
        "    dataset['Age'].fillna(dataset['Age'].mean(), inplace=True)\n",
        "    dataset.loc[dataset['Age'] <= 10, 'Age'] = 0 \n",
        "    #전체 sample중에서 Age가 10보다 작은 사람들의 Age 값을 0으로 할당\n",
        "    dataset.loc[(dataset['Age'] > 10) & (dataset['Age'] <= 20), 'Age'] = 1\n",
        "    dataset.loc[(dataset['Age'] > 20) & (dataset['Age'] <= 30), 'Age'] = 2\n",
        "    dataset.loc[(dataset['Age'] > 30) & (dataset['Age'] <= 40), 'Age'] = 3\n",
        "    dataset.loc[(dataset['Age'] > 40) & (dataset['Age'] <= 50), 'Age'] = 4\n",
        "    dataset.loc[(dataset['Age'] > 50) & (dataset['Age'] <= 60), 'Age'] = 5\n",
        "    dataset.loc[(dataset['Age'] > 60) , 'Age'] = 6\n",
        "    dataset['Age'] = dataset['Age'].map( { 0: 'Child',  1: 'Young', 2: 'Middle', \n",
        "                                          3: 'Prime', 4: 'Old', \n",
        "                                          5: 'Older', 6: 'Oldest'} ).astype(str) #classification 진행\n",
        "    # Sibsp, Parch\n",
        "    dataset.loc[(dataset['SibSp'] <= 0) & (dataset['Parch'] <= 0), 'Family'] = 0\n",
        "    dataset.loc[(dataset['SibSp'] > 0) | (dataset['Parch'] > 0), 'Family'] = 1\n",
        "    dataset['Family'] = dataset['Family'].astype(int)\n",
        "    dataset.drop(['SibSp','Parch'],axis=1,inplace=True)"
      ],
      "execution_count": null,
      "outputs": []
    },
    {
      "cell_type": "code",
      "metadata": {
        "execution": {
          "iopub.status.busy": "2021-11-10T09:10:58.575796Z",
          "iopub.execute_input": "2021-11-10T09:10:58.576086Z",
          "iopub.status.idle": "2021-11-10T09:10:58.589029Z",
          "shell.execute_reply.started": "2021-11-10T09:10:58.576048Z",
          "shell.execute_reply": "2021-11-10T09:10:58.588432Z"
        },
        "trusted": true,
        "id": "InS61rqsR6EB"
      },
      "source": [
        "df_train.head()"
      ],
      "execution_count": null,
      "outputs": []
    },
    {
      "cell_type": "code",
      "metadata": {
        "execution": {
          "iopub.status.busy": "2021-11-10T09:10:58.590308Z",
          "iopub.execute_input": "2021-11-10T09:10:58.591014Z",
          "iopub.status.idle": "2021-11-10T09:10:58.607919Z",
          "shell.execute_reply.started": "2021-11-10T09:10:58.590965Z",
          "shell.execute_reply": "2021-11-10T09:10:58.607211Z"
        },
        "trusted": true,
        "id": "BntCsFFeR6EC"
      },
      "source": [
        "df_test.head()"
      ],
      "execution_count": null,
      "outputs": []
    },
    {
      "cell_type": "code",
      "metadata": {
        "execution": {
          "iopub.status.busy": "2021-11-10T09:10:58.609247Z",
          "iopub.execute_input": "2021-11-10T09:10:58.609883Z",
          "iopub.status.idle": "2021-11-10T09:10:58.625820Z",
          "shell.execute_reply.started": "2021-11-10T09:10:58.609832Z",
          "shell.execute_reply": "2021-11-10T09:10:58.624865Z"
        },
        "trusted": true,
        "id": "N_Fav6zxR6EC"
      },
      "source": [
        "# str -> int Encoding 진행 (sklearn 사용)\n",
        "from sklearn.preprocessing import LabelEncoder\n",
        "for col in ['Sex', 'Age', 'Embarked']:\n",
        "    le = LabelEncoder()\n",
        "    df_train[col] = le.fit_transform(df_train[col])\n",
        "    df_test[col] = le.transform(df_test[col])"
      ],
      "execution_count": null,
      "outputs": []
    },
    {
      "cell_type": "code",
      "metadata": {
        "execution": {
          "iopub.status.busy": "2021-11-10T09:10:58.627406Z",
          "iopub.execute_input": "2021-11-10T09:10:58.628261Z",
          "iopub.status.idle": "2021-11-10T09:10:58.646797Z",
          "shell.execute_reply.started": "2021-11-10T09:10:58.628206Z",
          "shell.execute_reply": "2021-11-10T09:10:58.645460Z"
        },
        "trusted": true,
        "id": "I-ZhNgtUR6EC"
      },
      "source": [
        "df_train.head()"
      ],
      "execution_count": null,
      "outputs": []
    },
    {
      "cell_type": "code",
      "metadata": {
        "execution": {
          "iopub.status.busy": "2021-11-10T09:10:58.648400Z",
          "iopub.execute_input": "2021-11-10T09:10:58.648766Z",
          "iopub.status.idle": "2021-11-10T09:10:58.663217Z",
          "shell.execute_reply.started": "2021-11-10T09:10:58.648709Z",
          "shell.execute_reply": "2021-11-10T09:10:58.662228Z"
        },
        "trusted": true,
        "id": "L577AxV7R6EC"
      },
      "source": [
        "df_test.head()"
      ],
      "execution_count": null,
      "outputs": []
    },
    {
      "cell_type": "markdown",
      "metadata": {
        "id": "hK5M-wgcR6EC"
      },
      "source": [
        "학습"
      ]
    },
    {
      "cell_type": "code",
      "metadata": {
        "execution": {
          "iopub.status.busy": "2021-11-10T09:10:58.664807Z",
          "iopub.execute_input": "2021-11-10T09:10:58.665654Z",
          "iopub.status.idle": "2021-11-10T09:10:58.674804Z",
          "shell.execute_reply.started": "2021-11-10T09:10:58.665606Z",
          "shell.execute_reply": "2021-11-10T09:10:58.674084Z"
        },
        "trusted": true,
        "id": "ob_sb55IR6EC"
      },
      "source": [
        "# 학습을 위해 종속변수 분리 및 학습 및 검증 데이터 분리\n",
        "from sklearn.model_selection import train_test_split\n",
        "y = df_train['Survived']\n",
        "df_train = df_train.drop(['Survived'],axis=1)\n",
        "x_train, x_test, y_train, y_test = train_test_split(df_train, y, \n",
        "                                                    test_size=0.3, \n",
        "                                                    random_state=3)"
      ],
      "execution_count": null,
      "outputs": []
    },
    {
      "cell_type": "markdown",
      "metadata": {
        "id": "etM2KUJxR6ED"
      },
      "source": [
        "학습 MLP 사용"
      ]
    },
    {
      "cell_type": "code",
      "metadata": {
        "execution": {
          "iopub.status.busy": "2021-11-10T09:13:05.645646Z",
          "iopub.execute_input": "2021-11-10T09:13:05.645935Z",
          "iopub.status.idle": "2021-11-10T09:13:05.653220Z",
          "shell.execute_reply.started": "2021-11-10T09:13:05.645901Z",
          "shell.execute_reply": "2021-11-10T09:13:05.652392Z"
        },
        "trusted": true,
        "id": "NaFAD-7OR6ED"
      },
      "source": [
        "# 실습을 위해 파이토치의 도구들을 임포트하는 기본 셋팅을 진행\n",
        "import torch\n",
        "import torch.nn as nn\n",
        "from torch import optim\n",
        "device = 'cuda' if torch.cuda.is_available() else 'cpu'\n",
        "\n",
        "# for reproducibility\n",
        "torch.manual_seed(777)\n",
        "if device == 'cuda':\n",
        "    torch.cuda.manual_seed_all(777)"
      ],
      "execution_count": null,
      "outputs": []
    },
    {
      "cell_type": "code",
      "metadata": {
        "execution": {
          "iopub.status.busy": "2021-11-10T09:13:07.038652Z",
          "iopub.execute_input": "2021-11-10T09:13:07.039247Z",
          "iopub.status.idle": "2021-11-10T09:13:07.046205Z",
          "shell.execute_reply.started": "2021-11-10T09:13:07.039173Z",
          "shell.execute_reply": "2021-11-10T09:13:07.045583Z"
        },
        "trusted": true,
        "id": "HWIZ5gBPR6ED"
      },
      "source": [
        "X_train = torch.FloatTensor(np.array(x_train)).to(device)\n",
        "Y_train = torch.FloatTensor(np.array(y_train)).unsqueeze(1).to(device)\n",
        "X_test = torch.FloatTensor(np.array(x_test)).to(device)\n",
        "Y_test = torch.FloatTensor(np.array(y_test)).unsqueeze(1).to(device)"
      ],
      "execution_count": null,
      "outputs": []
    },
    {
      "cell_type": "code",
      "metadata": {
        "execution": {
          "iopub.status.busy": "2021-11-10T09:13:08.500714Z",
          "iopub.execute_input": "2021-11-10T09:13:08.501274Z",
          "iopub.status.idle": "2021-11-10T09:13:08.507974Z",
          "shell.execute_reply.started": "2021-11-10T09:13:08.501223Z",
          "shell.execute_reply": "2021-11-10T09:13:08.507344Z"
        },
        "trusted": true,
        "id": "LfHJxRAnR6ED"
      },
      "source": [
        "model = nn.Sequential(\n",
        "    nn.Linear(5, 16), # input_layer = 5, hidden_layer1 = 16\n",
        "    nn.ReLU(),#     nn.Dropout(0.1),\n",
        "    nn.Linear(16, 8), # hidden_layer2 = 16, hidden_layer3 = 8\n",
        "    nn.ReLU(),#     nn.Dropout(0.1),\n",
        "    nn.Linear(8, 1), # hidden_layer3 = 8, output_layer = 1\n",
        "    nn.Sigmoid()\n",
        ").to(device)"
      ],
      "execution_count": null,
      "outputs": []
    },
    {
      "cell_type": "code",
      "metadata": {
        "execution": {
          "iopub.status.busy": "2021-11-10T09:13:09.817985Z",
          "iopub.execute_input": "2021-11-10T09:13:09.818300Z",
          "iopub.status.idle": "2021-11-10T09:13:09.825518Z",
          "shell.execute_reply.started": "2021-11-10T09:13:09.818262Z",
          "shell.execute_reply": "2021-11-10T09:13:09.824661Z"
        },
        "trusted": true,
        "id": "TrOufwQ1R6ED"
      },
      "source": [
        "criterion = torch.nn.BCELoss().to(device) \n",
        "# 이진 분류에서 사용하는 크로스엔트로피 함수\n",
        "optimizer = torch.optim.Adam(model.parameters(), lr=0.01, weight_decay=1e-5) \n",
        "# Adam optimizer 사용 learning rate는 0.01, 가중치 규제(Regularization) 적용\n",
        "# optimizer = torch.optim.SGD(model.parameters(), lr=1)"
      ],
      "execution_count": null,
      "outputs": []
    },
    {
      "cell_type": "code",
      "metadata": {
        "execution": {
          "iopub.status.busy": "2021-11-10T09:13:13.362573Z",
          "iopub.execute_input": "2021-11-10T09:13:13.363379Z",
          "iopub.status.idle": "2021-11-10T09:13:14.316990Z",
          "shell.execute_reply.started": "2021-11-10T09:13:13.363335Z",
          "shell.execute_reply": "2021-11-10T09:13:14.316343Z"
        },
        "trusted": true,
        "id": "4jAwTS2wR6EE"
      },
      "source": [
        "for epoch in range(1001):\n",
        "    model.train()  # 신경망을 학습 모드로 전환\n",
        "    optimizer.zero_grad() # 경사를 0으로 초기화\n",
        "    y_pred = model(X_train) # forward 연산, 데이터를 입력하고 출력을 계산\n",
        "    loss = criterion(y_pred, Y_train) # 출력과 훈련 데이터 정답 간의 오차를 계산\n",
        "    loss.backward() # 오차를 역전파 계산\n",
        "    optimizer.step() # 역전파 계산한 값으로 가중치를 수정\n",
        "\n",
        "    # epoch이 100단위로 끊길 때마다 cost, 학습 accuracy, 검증 accuracy 확인\n",
        "    if epoch % 100 == 0:\n",
        "        model.eval()\n",
        "        with torch.no_grad():\n",
        "            hypothesis1 = model(X_train)\n",
        "            predicted1 = (hypothesis1 > 0.5).float()\n",
        "            accuracy1 = (predicted1 == Y_train).float().mean()\n",
        "            \n",
        "            hypothesis2 = model(X_test)\n",
        "            predicted2 = (hypothesis2 > 0.5).float()\n",
        "            accuracy2 = (predicted2 == Y_test).float().mean()\n",
        "        \n",
        "        print('Epoch {:5d}/{} Cost: {:.6f} Train_Acc: {:.4f} Val_Acc: {:.4f}'.format(\n",
        "                epoch, 1000, loss.item(), accuracy1.item(), accuracy2.item()))"
      ],
      "execution_count": null,
      "outputs": []
    },
    {
      "cell_type": "code",
      "metadata": {
        "execution": {
          "iopub.status.busy": "2021-11-10T09:12:31.860208Z",
          "iopub.execute_input": "2021-11-10T09:12:31.860511Z",
          "iopub.status.idle": "2021-11-10T09:12:31.871814Z",
          "shell.execute_reply.started": "2021-11-10T09:12:31.860479Z",
          "shell.execute_reply": "2021-11-10T09:12:31.871224Z"
        },
        "trusted": true,
        "id": "GXd4joF8R6EE"
      },
      "source": [
        "# 데이터 \n",
        "test = torch.FloatTensor(np.array(df_test)).to(device)\n",
        "with torch.no_grad():\n",
        "    hypothesis = model(test)\n",
        "    predicted = (hypothesis > 0.5).float()\n",
        "pred = pd.DataFrame(np.array(predicted).astype(int))\n",
        "\n",
        "submission['Survived'] = pred\n",
        "submission.to_csv('submission.csv', index=False)"
      ],
      "execution_count": null,
      "outputs": []
    }
  ]
}
