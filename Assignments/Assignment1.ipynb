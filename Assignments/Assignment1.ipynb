{
  "nbformat": 4,
  "nbformat_minor": 0,
  "metadata": {
    "colab": {
      "name": "과제1.ipynb",
      "provenance": [],
      "collapsed_sections": [
        "7rZ8UJEjXDpd",
        "qxHrKcirZjmh"
      ],
      "authorship_tag": "ABX9TyOa9BGpqudJUWHaooAA+wsP",
      "include_colab_link": true
    },
    "kernelspec": {
      "name": "python3",
      "display_name": "Python 3"
    },
    "language_info": {
      "name": "python"
    }
  },
  "cells": [
    {
      "cell_type": "markdown",
      "metadata": {
        "id": "view-in-github",
        "colab_type": "text"
      },
      "source": [
        "<a href=\"https://colab.research.google.com/github/bob8dod/DeepLearning-with-PyTorch/blob/main/Assignments/Assignment1.ipynb\" target=\"_parent\"><img src=\"https://colab.research.google.com/assets/colab-badge.svg\" alt=\"Open In Colab\"/></a>"
      ]
    },
    {
      "cell_type": "code",
      "metadata": {
        "colab": {
          "base_uri": "https://localhost:8080/"
        },
        "id": "WHh-XUChXQtf",
        "outputId": "60c4ea90-07e5-4138-cd39-222f3e17aa77"
      },
      "source": [
        "# 실습을 위해 파이토치의 도구들을 임포트하는 기본 셋팅을 진행\n",
        "import torch\n",
        "import torch.nn as nn\n",
        "import torch.nn.functional as F\n",
        "import torch.optim as optim\n",
        "torch.manual_seed(1) # 랜덤시드 고정"
      ],
      "execution_count": null,
      "outputs": [
        {
          "output_type": "execute_result",
          "data": {
            "text/plain": [
              "<torch._C.Generator at 0x7fdd9b20cbb0>"
            ]
          },
          "metadata": {},
          "execution_count": 56
        }
      ]
    },
    {
      "cell_type": "code",
      "metadata": {
        "id": "SvppudEWXSPw"
      },
      "source": [
        "# 실습에 사용될 학습 데이터 (다중 선형 회귀용 데이터)\n",
        "X = torch.FloatTensor([[-10, 0, -8, -8],\n",
        "    [-4, -3,  9,  3],\n",
        "    [-7,  9, 10,  4],\n",
        "    [-6, -4,  2,  3],\n",
        "    [-6, -9, -9,  1],\n",
        "    [-2,  5, -7, -2],\n",
        "    [-9, -2, -3, -3],\n",
        "    [9,  -4,  6,  4],\n",
        "    [9,  -1, -9, -6],\n",
        "    [1, -9, -11,  3]])\n",
        "Y = torch.FloatTensor([[-2.0], [-53.9], [-21.1], [-36.7], [-15.2], [42.9], [-25.7], [-11.4], [56.0], [7.2]])"
      ],
      "execution_count": null,
      "outputs": []
    },
    {
      "cell_type": "markdown",
      "metadata": {
        "id": "7rZ8UJEjXDpd"
      },
      "source": [
        "# 직접 구현한 버전"
      ]
    },
    {
      "cell_type": "markdown",
      "metadata": {
        "id": "TrHrcMDGXL6V"
      },
      "source": [
        "선형 회귀를 좀 더 직접적으로 이해하기 위해 가설, 비용 함수를 직접 정의해서 선형 회귀 모델을 구현"
      ]
    },
    {
      "cell_type": "code",
      "metadata": {
        "colab": {
          "base_uri": "https://localhost:8080/"
        },
        "id": "AtfmwfTSYKvV",
        "outputId": "62f9fb99-4111-4583-a775-1364e7a5ceef"
      },
      "source": [
        "print(X.shape) #torch.Size([10, 4])\n",
        "print(Y.shape) #torch.Size([10, 1])"
      ],
      "execution_count": null,
      "outputs": [
        {
          "output_type": "stream",
          "name": "stdout",
          "text": [
            "torch.Size([10, 4])\n",
            "torch.Size([10, 1])\n"
          ]
        }
      ]
    },
    {
      "cell_type": "code",
      "metadata": {
        "id": "ugnTAsEWW_av"
      },
      "source": [
        "'''\n",
        "w1 = torch.zeros(1, requires_grad=True)\n",
        "w2 = torch.zeros(1, requires_grad=True)\n",
        "w3 = torch.zeros(1, requires_grad=True)\n",
        "b = torch.zeros(1, requires_grad=True)\n",
        "'''\n",
        "# 가중치 w와 편향 b 초기화\n",
        "W = torch.zeros((4, 1), requires_grad=True)\n",
        "b = torch.zeros(1, requires_grad=True)"
      ],
      "execution_count": null,
      "outputs": []
    },
    {
      "cell_type": "code",
      "metadata": {
        "id": "TLxwVtK9YbTG"
      },
      "source": [
        "# optimizer 설정\n",
        "optimizer = optim.SGD([W, b], lr=1e-5)"
      ],
      "execution_count": null,
      "outputs": []
    },
    {
      "cell_type": "code",
      "metadata": {
        "colab": {
          "base_uri": "https://localhost:8080/"
        },
        "id": "asw_myUQYkH4",
        "outputId": "dab74bb4-5538-40b6-b3a7-29531b8e180c"
      },
      "source": [
        "epochs = 20000\n",
        "for epoch in range(1,epochs + 1):\n",
        "\n",
        "    # H(x) 계산\n",
        "    # 편향 b는 브로드 캐스팅되어 각 샘플에 더해집니다.\n",
        "    hypothesis = X.matmul(W) + b\n",
        "\n",
        "    # cost 계산\n",
        "    cost = torch.mean((hypothesis - Y) ** 2)\n",
        "\n",
        "    # cost로 H(x) 개선\n",
        "    optimizer.zero_grad()\n",
        "    cost.backward()\n",
        "    optimizer.step()\n",
        "\n",
        "    if epoch % 2000 == 0:\n",
        "        print('Epoch {:4d}/{} Cost: {:.6f}'.format(epoch, epochs, cost.item()))"
      ],
      "execution_count": null,
      "outputs": [
        {
          "output_type": "stream",
          "name": "stdout",
          "text": [
            "Epoch 2000/20000 Cost: 104.073524\n",
            "Epoch 4000/20000 Cost: 37.490685\n",
            "Epoch 6000/20000 Cost: 23.329142\n",
            "Epoch 8000/20000 Cost: 16.694483\n",
            "Epoch 10000/20000 Cost: 12.622404\n",
            "Epoch 12000/20000 Cost: 9.990808\n",
            "Epoch 14000/20000 Cost: 8.272963\n",
            "Epoch 16000/20000 Cost: 7.146646\n",
            "Epoch 18000/20000 Cost: 6.404676\n",
            "Epoch 20000/20000 Cost: 5.912744\n"
          ]
        }
      ]
    },
    {
      "cell_type": "code",
      "metadata": {
        "colab": {
          "base_uri": "https://localhost:8080/"
        },
        "id": "rXkA3ztIALJ4",
        "outputId": "75d686ca-ef23-4dc6-bb2a-71dc7ba01b61"
      },
      "source": [
        "print(Y.squeeze())\n",
        "print(list(map(lambda x: round(float(x),1), hypothesis.squeeze().detach())))"
      ],
      "execution_count": null,
      "outputs": [
        {
          "output_type": "stream",
          "name": "stdout",
          "text": [
            "tensor([ -2.0000, -53.9000, -21.1000, -36.7000, -15.2000,  42.9000, -25.7000,\n",
            "        -11.4000,  56.0000,   7.2000])\n",
            "[-0.0, -55.2, -22.0, -39.3, -18.5, 38.5, -22.6, -10.8, 54.4, 9.0]\n"
          ]
        }
      ]
    },
    {
      "cell_type": "markdown",
      "metadata": {
        "id": "qxHrKcirZjmh"
      },
      "source": [
        "# nn.Module 및 class로 구현한 버전"
      ]
    },
    {
      "cell_type": "markdown",
      "metadata": {
        "id": "RUlX6jwtarmu"
      },
      "source": [
        "파이토치에서 이미 구현되어져 제공되고 있는 함수들을 불러오는 것으로 더 쉽게 선형 회귀 모델을 구현"
      ]
    },
    {
      "cell_type": "code",
      "metadata": {
        "id": "V20RWNoWY1OH"
      },
      "source": [
        "class MultivariateLinearRegressionModel(nn.Module):\n",
        "    def __init__(self):\n",
        "        super().__init__()\n",
        "        self.linear = nn.Linear(4, 1) # 다중 선형 회귀이므로 input_dim=4, output_dim=1.\n",
        "\n",
        "    def forward(self, x):\n",
        "        return self.linear(x)"
      ],
      "execution_count": null,
      "outputs": []
    },
    {
      "cell_type": "code",
      "metadata": {
        "id": "zwKjlMJhZzK0"
      },
      "source": [
        "model = MultivariateLinearRegressionModel()"
      ],
      "execution_count": null,
      "outputs": []
    },
    {
      "cell_type": "code",
      "metadata": {
        "id": "iFhsFM_RZzr4"
      },
      "source": [
        "optimizer = torch.optim.SGD(model.parameters(), lr=1e-5) "
      ],
      "execution_count": null,
      "outputs": []
    },
    {
      "cell_type": "code",
      "metadata": {
        "colab": {
          "base_uri": "https://localhost:8080/"
        },
        "id": "25XUFuYRZ0t3",
        "outputId": "546f380f-b500-49aa-9b3e-76e2c46769b9"
      },
      "source": [
        "nb_epochs = 20000\n",
        "for epoch in range(1,nb_epochs+1):\n",
        "\n",
        "    # H(x) 계산\n",
        "    prediction = model(X)\n",
        "    # model(x_train)은 model.forward(x_train)와 동일함.\n",
        "\n",
        "    # cost 계산\n",
        "    cost = F.mse_loss(prediction, Y) # <== 파이토치에서 제공하는 평균 제곱 오차 함수\n",
        "\n",
        "    # cost로 H(x) 개선하는 부분\n",
        "    # gradient를 0으로 초기화\n",
        "    optimizer.zero_grad()\n",
        "    # 비용 함수를 미분하여 gradient 계산\n",
        "    cost.backward()\n",
        "    # W와 b를 업데이트\n",
        "    optimizer.step()\n",
        "\n",
        "    if epoch % 2000 == 0:\n",
        "    # 100번마다 로그 출력\n",
        "      print('Epoch {:4d}/{} Cost: {:.6f}'.format(epoch, nb_epochs, cost.item()))"
      ],
      "execution_count": null,
      "outputs": [
        {
          "output_type": "stream",
          "name": "stdout",
          "text": [
            "Epoch 2000/20000 Cost: 105.820030\n",
            "Epoch 4000/20000 Cost: 36.897923\n",
            "Epoch 6000/20000 Cost: 22.930859\n",
            "Epoch 8000/20000 Cost: 16.648106\n",
            "Epoch 10000/20000 Cost: 12.815602\n",
            "Epoch 12000/20000 Cost: 10.329041\n",
            "Epoch 14000/20000 Cost: 8.693331\n",
            "Epoch 16000/20000 Cost: 7.608859\n",
            "Epoch 18000/20000 Cost: 6.883208\n",
            "Epoch 20000/20000 Cost: 6.391644\n"
          ]
        }
      ]
    },
    {
      "cell_type": "code",
      "metadata": {
        "colab": {
          "base_uri": "https://localhost:8080/"
        },
        "id": "Q6x3R5cXZ7mO",
        "outputId": "04e8bfe5-fdeb-4db4-e750-a73cb2f714b9"
      },
      "source": [
        "print(list(model.parameters()))"
      ],
      "execution_count": null,
      "outputs": [
        {
          "output_type": "stream",
          "name": "stdout",
          "text": [
            "[Parameter containing:\n",
            "tensor([[ 2.8455,  3.7707, -3.6394,  0.0773]], requires_grad=True), Parameter containing:\n",
            "tensor([-0.2828], requires_grad=True)]\n"
          ]
        }
      ]
    },
    {
      "cell_type": "code",
      "metadata": {
        "colab": {
          "base_uri": "https://localhost:8080/"
        },
        "id": "n2FZEXKyaNOu",
        "outputId": "bed33a12-792d-4596-b73b-e6fd9ae6b4e6"
      },
      "source": [
        "new_var =  torch.FloatTensor([[1, -9, -11,  3]]) \n",
        "# 입력한 값 [1, -9, -11,  3]에 대해서 예측값 y를 리턴받아서 pred_y에 저장\n",
        "pred_y = model(new_var) \n",
        "print(\"훈련 후 입력이 1, -9, -11,  3일 때의 예측값 :\", pred_y) \n",
        "print('정답:', Y[-1])"
      ],
      "execution_count": null,
      "outputs": [
        {
          "output_type": "stream",
          "name": "stdout",
          "text": [
            "훈련 후 입력이 1, -9, -11,  3일 때의 예측값 : tensor([[8.8918]], grad_fn=<AddmmBackward>)\n",
            "정답: tensor([7.2000])\n"
          ]
        }
      ]
    },
    {
      "cell_type": "code",
      "metadata": {
        "id": "bJZP2Djxa7tq"
      },
      "source": [
        ""
      ],
      "execution_count": null,
      "outputs": []
    }
  ]
}